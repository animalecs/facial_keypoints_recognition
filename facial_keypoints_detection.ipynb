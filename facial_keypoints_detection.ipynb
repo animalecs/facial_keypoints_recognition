{
  "nbformat": 4,
  "nbformat_minor": 0,
  "metadata": {
    "accelerator": "GPU",
    "colab": {
      "name": "facial_keypoints_detection.ipynb",
      "provenance": [],
      "collapsed_sections": [],
      "toc_visible": true,
      "include_colab_link": true
    },
    "kernelspec": {
      "display_name": "Python 3",
      "language": "python",
      "name": "python3"
    },
    "language_info": {
      "codemirror_mode": {
        "name": "ipython",
        "version": 3
      },
      "file_extension": ".py",
      "mimetype": "text/x-python",
      "name": "python",
      "nbconvert_exporter": "python",
      "pygments_lexer": "ipython3",
      "version": "3.7.3"
    }
  },
  "cells": [
    {
      "cell_type": "markdown",
      "metadata": {
        "id": "view-in-github",
        "colab_type": "text"
      },
      "source": [
        "<a href=\"https://colab.research.google.com/github/animalecs/facial_keypoints_recognition/blob/master/facial_keypoints_detection.ipynb\" target=\"_parent\"><img src=\"https://colab.research.google.com/assets/colab-badge.svg\" alt=\"Open In Colab\"/></a>"
      ]
    },
    {
      "cell_type": "code",
      "metadata": {
        "colab_type": "code",
        "id": "2NRv6lYJqf77",
        "outputId": "4381d126-dcdb-45c4-a860-7afdcb4aac9a",
        "colab": {
          "base_uri": "https://localhost:8080/",
          "height": 80
        }
      },
      "source": [
        "# !pip install --upgrade tensorflow\n",
        "\n",
        "import numpy as np\n",
        "import pandas as pd\n",
        "import tensorflow as tf\n",
        "import matplotlib.pyplot as plt\n",
        "from keras.layers import Convolution2D, Dropout, Dense, Flatten, BatchNormalization, MaxPool2D\n",
        "from keras.layers.advanced_activations import LeakyReLU\n",
        "from keras.models import Sequential\n",
        "%matplotlib inline\n",
        "\n",
        "VERBOSE = False"
      ],
      "execution_count": 1,
      "outputs": [
        {
          "output_type": "display_data",
          "data": {
            "text/html": [
              "<p style=\"color: red;\">\n",
              "The default version of TensorFlow in Colab will soon switch to TensorFlow 2.x.<br>\n",
              "We recommend you <a href=\"https://www.tensorflow.org/guide/migrate\" target=\"_blank\">upgrade</a> now \n",
              "or ensure your notebook will continue to use TensorFlow 1.x via the <code>%tensorflow_version 1.x</code> magic:\n",
              "<a href=\"https://colab.research.google.com/notebooks/tensorflow_version.ipynb\" target=\"_blank\">more info</a>.</p>\n"
            ],
            "text/plain": [
              "<IPython.core.display.HTML object>"
            ]
          },
          "metadata": {
            "tags": []
          }
        },
        {
          "output_type": "stream",
          "text": [
            "Using TensorFlow backend.\n"
          ],
          "name": "stderr"
        }
      ]
    },
    {
      "cell_type": "code",
      "metadata": {
        "colab_type": "code",
        "id": "qSO26istrONz",
        "colab": {}
      },
      "source": [
        "train_data = pd.read_csv(\"drive/My Drive/ml_data/facial_keypoints_recognition/training.csv\")\n",
        "test_data = pd.read_csv(\"drive/My Drive/ml_data/facial_keypoints_recognition/test.csv\")"
      ],
      "execution_count": 0,
      "outputs": []
    },
    {
      "cell_type": "code",
      "metadata": {
        "id": "UdN5K1OsnFC8",
        "colab_type": "code",
        "colab": {}
      },
      "source": [
        "def format_images(text_images, dims, norm=False):\n",
        "    \"\"\"\n",
        "    Receives an image formatted as a string and outputs it as \n",
        "    a numpy array of the desired size\n",
        "    Input:\n",
        "    text_images: string array of pixel values\n",
        "    dims: tuple containing the output shape of the image\n",
        "    norm: boolean, if true the function normalizes the output\n",
        "    Output:\n",
        "    images: array of shaped images \n",
        "    \"\"\"\n",
        "    w, h, c = (dims)\n",
        "    images = []\n",
        "    for i in range(0, text_images.shape[0]):\n",
        "        # Get every image object, cast it to a string and split it \n",
        "        # since every value is a pixel\n",
        "        splitted_img = text_images[i].split(' ')\n",
        "        images.append(splitted_img)\n",
        "    # Cast from list to numpy array\n",
        "    images = np.array(images, dtype=\"float\")\n",
        "    # Reshape in the final size\n",
        "    images = images.reshape(-1, w, h, c)\n",
        "    if norm == True:\n",
        "        images = images / 255\n",
        "        \n",
        "    return images\n",
        "    "
      ],
      "execution_count": 0,
      "outputs": []
    },
    {
      "cell_type": "code",
      "metadata": {
        "id": "uhM99PFrvC3j",
        "colab_type": "code",
        "colab": {}
      },
      "source": [
        "def plot_img(img, keypoints=None):\n",
        "  \"\"\"\n",
        "  Plots a face image with the keypoints associated\n",
        "  Input:\n",
        "  img: the image to plot\n",
        "  keypoints: a numpy array with 30 values (15 coords with x,y)\n",
        "  \"\"\"\n",
        "  # We have to reshape it again because imageplotlib can show images\n",
        "  # in black/white with just 2 dims or colored images with 3 dims\n",
        "  plt.imshow(img.reshape(96, 96), cmap=\"gray\")\n",
        "  if not keypoints is None and keypoints.any() == True:\n",
        "    for i in range(15):\n",
        "      # print(train_data.iloc[img_index, i])\n",
        "      # print(train_data.iloc[img_index, i+1])\n",
        "      plt.scatter(keypoints[i*2], keypoints[i*2+1], s=5, c='red', marker='o')\n",
        "  plt.show()"
      ],
      "execution_count": 0,
      "outputs": []
    },
    {
      "cell_type": "code",
      "metadata": {
        "colab_type": "code",
        "id": "f5gyZGB2vasy",
        "colab": {}
      },
      "source": [
        "if VERBOSE == True:\n",
        "  # Check the data type of each column\n",
        "  print(\"\\r\\nData types: \")\n",
        "  print(train_data.dtypes)\n",
        "  # Check the data\n",
        "  print(\"\\r\\nFirst data values: \")\n",
        "  print(train_data.head().T)\n",
        "  # Check if there are missing values\n",
        "  print(\"\\r\\nMissing values: \")\n",
        "  print(train_data.isnull().sum())\n",
        "\n",
        "# Remove the last row since the image doesn't have all the pixels\n",
        "train_data.head(-1)\n",
        "\n",
        "# Fill the Nan values with the last valid number of the column\n",
        "# TO DO - try to drop the row with NaN values\n",
        "train_data = train_data.fillna(method='ffill')"
      ],
      "execution_count": 0,
      "outputs": []
    },
    {
      "cell_type": "code",
      "metadata": {
        "colab_type": "code",
        "id": "LIN5rLMLzHzp",
        "colab": {}
      },
      "source": [
        "raw_images = train_data[\"Image\"]\n",
        "#Drop the images column from the dataset\n",
        "train_data = train_data.drop('Image',axis = 1)\n",
        "\n",
        "input_images = format_images(raw_images, (96, 96, 1))"
      ],
      "execution_count": 0,
      "outputs": []
    },
    {
      "cell_type": "code",
      "metadata": {
        "colab_type": "code",
        "id": "HwHJbQypz1lT",
        "outputId": "8cadb59a-55d6-481b-ab9a-2983e4658bb5",
        "colab": {
          "base_uri": "https://localhost:8080/",
          "height": 268
        }
      },
      "source": [
        "# Plot the first image to check it\n",
        "img_index = 0\n",
        "data_row = train_data.iloc[img_index].to_numpy()\n",
        "temp_img = input_images[img_index]\n",
        "plot_img(temp_img, data_row)"
      ],
      "execution_count": 7,
      "outputs": [
        {
          "output_type": "display_data",
          "data": {
            "image/png": "[encoded data removed]",
            "text/plain": [
              "<Figure size 432x288 with 1 Axes>"
            ]
          },
          "metadata": {
            "tags": []
          }
        }
      ]
    },
    {
      "cell_type": "code",
      "metadata": {
        "colab_type": "code",
        "id": "KWNmvmapst9y",
        "colab": {}
      },
      "source": [
        "\n",
        "# Normalize images\n",
        "input_images = input_images / 255"
      ],
      "execution_count": 0,
      "outputs": []
    },
    {
      "cell_type": "code",
      "metadata": {
        "colab_type": "code",
        "id": "c8YqNAS8DV8z",
        "outputId": "897f538d-d842-46cf-87af-a6ef3cf05812",
        "colab": {
          "base_uri": "https://localhost:8080/",
          "height": 1000
        }
      },
      "source": [
        "model = Sequential()\n",
        "model.add(Convolution2D(32, (3,3), padding='same', use_bias=False, input_shape=(96,96,1)))\n",
        "model.add(LeakyReLU(alpha=0.1))\n",
        "model.add(BatchNormalization())\n",
        "\n",
        "model.add(Convolution2D(32, (3,3), padding='same', use_bias=False))\n",
        "model.add(LeakyReLU(alpha=0.1))\n",
        "model.add(BatchNormalization())\n",
        "model.add(MaxPool2D(pool_size=(2, 2)))\n",
        "\n",
        "model.add(Convolution2D(64, (3,3), padding='same', use_bias=False, input_shape=(96,96,1)))\n",
        "model.add(LeakyReLU(alpha=0.1))\n",
        "model.add(BatchNormalization())\n",
        "\n",
        "model.add(Convolution2D(64, (3,3), padding='same', use_bias=False))\n",
        "model.add(LeakyReLU(alpha=0.1))\n",
        "model.add(BatchNormalization())\n",
        "model.add(MaxPool2D(pool_size=(2, 2)))\n",
        "\n",
        "model.add(Convolution2D(128, (3,3), padding='same', use_bias=False))\n",
        "model.add(LeakyReLU(alpha=0.1))\n",
        "model.add(BatchNormalization())\n",
        "model.add(MaxPool2D(pool_size=(2, 2)))\n",
        "\n",
        "model.add(Convolution2D(256, (3,3), padding='same', use_bias=False))\n",
        "model.add(LeakyReLU(alpha=0.1))\n",
        "model.add(BatchNormalization())\n",
        "model.add(MaxPool2D(pool_size=(2, 2)))\n",
        "\n",
        "model.add(Flatten())\n",
        "model.add(Dense(512,activation='relu'))\n",
        "# Without dropout the model overfits the small dataset\n",
        "model.add(Dropout(0.1))\n",
        "model.add(Dense(30))\n",
        "model.summary()"
      ],
      "execution_count": 9,
      "outputs": [
        {
          "output_type": "stream",
          "text": [
            "WARNING:tensorflow:From /usr/local/lib/python3.6/dist-packages/keras/backend/tensorflow_backend.py:66: The name tf.get_default_graph is deprecated. Please use tf.compat.v1.get_default_graph instead.\n",
            "\n",
            "WARNING:tensorflow:From /usr/local/lib/python3.6/dist-packages/keras/backend/tensorflow_backend.py:541: The name tf.placeholder is deprecated. Please use tf.compat.v1.placeholder instead.\n",
            "\n",
            "WARNING:tensorflow:From /usr/local/lib/python3.6/dist-packages/keras/backend/tensorflow_backend.py:4432: The name tf.random_uniform is deprecated. Please use tf.random.uniform instead.\n",
            "\n",
            "WARNING:tensorflow:From /usr/local/lib/python3.6/dist-packages/keras/backend/tensorflow_backend.py:190: The name tf.get_default_session is deprecated. Please use tf.compat.v1.get_default_session instead.\n",
            "\n",
            "WARNING:tensorflow:From /usr/local/lib/python3.6/dist-packages/keras/backend/tensorflow_backend.py:197: The name tf.ConfigProto is deprecated. Please use tf.compat.v1.ConfigProto instead.\n",
            "\n",
            "WARNING:tensorflow:From /usr/local/lib/python3.6/dist-packages/keras/backend/tensorflow_backend.py:203: The name tf.Session is deprecated. Please use tf.compat.v1.Session instead.\n",
            "\n",
            "WARNING:tensorflow:From /usr/local/lib/python3.6/dist-packages/keras/backend/tensorflow_backend.py:207: The name tf.global_variables is deprecated. Please use tf.compat.v1.global_variables instead.\n",
            "\n",
            "WARNING:tensorflow:From /usr/local/lib/python3.6/dist-packages/keras/backend/tensorflow_backend.py:216: The name tf.is_variable_initialized is deprecated. Please use tf.compat.v1.is_variable_initialized instead.\n",
            "\n",
            "WARNING:tensorflow:From /usr/local/lib/python3.6/dist-packages/keras/backend/tensorflow_backend.py:223: The name tf.variables_initializer is deprecated. Please use tf.compat.v1.variables_initializer instead.\n",
            "\n",
            "WARNING:tensorflow:From /usr/local/lib/python3.6/dist-packages/keras/backend/tensorflow_backend.py:2041: The name tf.nn.fused_batch_norm is deprecated. Please use tf.compat.v1.nn.fused_batch_norm instead.\n",
            "\n",
            "WARNING:tensorflow:From /usr/local/lib/python3.6/dist-packages/keras/backend/tensorflow_backend.py:148: The name tf.placeholder_with_default is deprecated. Please use tf.compat.v1.placeholder_with_default instead.\n",
            "\n",
            "WARNING:tensorflow:From /usr/local/lib/python3.6/dist-packages/keras/backend/tensorflow_backend.py:4267: The name tf.nn.max_pool is deprecated. Please use tf.nn.max_pool2d instead.\n",
            "\n",
            "WARNING:tensorflow:From /usr/local/lib/python3.6/dist-packages/keras/backend/tensorflow_backend.py:3733: calling dropout (from tensorflow.python.ops.nn_ops) with keep_prob is deprecated and will be removed in a future version.\n",
            "Instructions for updating:\n",
            "Please use `rate` instead of `keep_prob`. Rate should be set to `rate = 1 - keep_prob`.\n",
            "Model: \"sequential_1\"\n",
            "_________________________________________________________________\n",
            "Layer (type)                 Output Shape              Param #   \n",
            "=================================================================\n",
            "conv2d_1 (Conv2D)            (None, 96, 96, 32)        288       \n",
            "_________________________________________________________________\n",
            "leaky_re_lu_1 (LeakyReLU)    (None, 96, 96, 32)        0         \n",
            "_________________________________________________________________\n",
            "batch_normalization_1 (Batch (None, 96, 96, 32)        128       \n",
            "_________________________________________________________________\n",
            "conv2d_2 (Conv2D)            (None, 96, 96, 32)        9216      \n",
            "_________________________________________________________________\n",
            "leaky_re_lu_2 (LeakyReLU)    (None, 96, 96, 32)        0         \n",
            "_________________________________________________________________\n",
            "batch_normalization_2 (Batch (None, 96, 96, 32)        128       \n",
            "_________________________________________________________________\n",
            "max_pooling2d_1 (MaxPooling2 (None, 48, 48, 32)        0         \n",
            "_________________________________________________________________\n",
            "conv2d_3 (Conv2D)            (None, 48, 48, 64)        18432     \n",
            "_________________________________________________________________\n",
            "leaky_re_lu_3 (LeakyReLU)    (None, 48, 48, 64)        0         \n",
            "_________________________________________________________________\n",
            "batch_normalization_3 (Batch (None, 48, 48, 64)        256       \n",
            "_________________________________________________________________\n",
            "conv2d_4 (Conv2D)            (None, 48, 48, 64)        36864     \n",
            "_________________________________________________________________\n",
            "leaky_re_lu_4 (LeakyReLU)    (None, 48, 48, 64)        0         \n",
            "_________________________________________________________________\n",
            "batch_normalization_4 (Batch (None, 48, 48, 64)        256       \n",
            "_________________________________________________________________\n",
            "max_pooling2d_2 (MaxPooling2 (None, 24, 24, 64)        0         \n",
            "_________________________________________________________________\n",
            "conv2d_5 (Conv2D)            (None, 24, 24, 128)       73728     \n",
            "_________________________________________________________________\n",
            "leaky_re_lu_5 (LeakyReLU)    (None, 24, 24, 128)       0         \n",
            "_________________________________________________________________\n",
            "batch_normalization_5 (Batch (None, 24, 24, 128)       512       \n",
            "_________________________________________________________________\n",
            "max_pooling2d_3 (MaxPooling2 (None, 12, 12, 128)       0         \n",
            "_________________________________________________________________\n",
            "conv2d_6 (Conv2D)            (None, 12, 12, 256)       294912    \n",
            "_________________________________________________________________\n",
            "leaky_re_lu_6 (LeakyReLU)    (None, 12, 12, 256)       0         \n",
            "_________________________________________________________________\n",
            "batch_normalization_6 (Batch (None, 12, 12, 256)       1024      \n",
            "_________________________________________________________________\n",
            "max_pooling2d_4 (MaxPooling2 (None, 6, 6, 256)         0         \n",
            "_________________________________________________________________\n",
            "flatten_1 (Flatten)          (None, 9216)              0         \n",
            "_________________________________________________________________\n",
            "dense_1 (Dense)              (None, 512)               4719104   \n",
            "_________________________________________________________________\n",
            "dropout_1 (Dropout)          (None, 512)               0         \n",
            "_________________________________________________________________\n",
            "dense_2 (Dense)              (None, 30)                15390     \n",
            "=================================================================\n",
            "Total params: 5,170,238\n",
            "Trainable params: 5,169,086\n",
            "Non-trainable params: 1,152\n",
            "_________________________________________________________________\n"
          ],
          "name": "stdout"
        }
      ]
    },
    {
      "cell_type": "code",
      "metadata": {
        "colab_type": "code",
        "id": "I55LGaAQFE6A",
        "outputId": "01b39197-8359-4653-cc26-eab0864c976e",
        "colab": {
          "base_uri": "https://localhost:8080/",
          "height": 71
        }
      },
      "source": [
        "model.compile(optimizer='adam', loss='mean_squared_error', metrics=['mae'])"
      ],
      "execution_count": 10,
      "outputs": [
        {
          "output_type": "stream",
          "text": [
            "WARNING:tensorflow:From /usr/local/lib/python3.6/dist-packages/keras/optimizers.py:793: The name tf.train.Optimizer is deprecated. Please use tf.compat.v1.train.Optimizer instead.\n",
            "\n"
          ],
          "name": "stdout"
        }
      ]
    },
    {
      "cell_type": "code",
      "metadata": {
        "colab_type": "code",
        "id": "bQbE-w71HaAk",
        "outputId": "a6d46ece-82fb-494b-9d82-abb5e5d54c19",
        "colab": {
          "base_uri": "https://localhost:8080/",
          "height": 1000
        }
      },
      "source": [
        "history = model.fit(input_images, train_data, epochs = 40,batch_size = 256, validation_split = 0.1, shuffle=True)"
      ],
      "execution_count": 11,
      "outputs": [
        {
          "output_type": "stream",
          "text": [
            "WARNING:tensorflow:From /usr/local/lib/python3.6/dist-packages/keras/backend/tensorflow_backend.py:1033: The name tf.assign_add is deprecated. Please use tf.compat.v1.assign_add instead.\n",
            "\n",
            "WARNING:tensorflow:From /usr/local/lib/python3.6/dist-packages/keras/backend/tensorflow_backend.py:1020: The name tf.assign is deprecated. Please use tf.compat.v1.assign instead.\n",
            "\n",
            "Train on 6344 samples, validate on 705 samples\n",
            "Epoch 1/40\n",
            "6344/6344 [==============================] - 16s 3ms/step - loss: 242.8118 - mean_absolute_error: 10.0044 - val_loss: 916.9147 - val_mean_absolute_error: 27.1195\n",
            "Epoch 2/40\n",
            "6344/6344 [==============================] - 7s 1ms/step - loss: 36.4666 - mean_absolute_error: 4.7304 - val_loss: 591.8913 - val_mean_absolute_error: 22.0583\n",
            "Epoch 3/40\n",
            "6344/6344 [==============================] - 7s 1ms/step - loss: 31.4568 - mean_absolute_error: 4.3612 - val_loss: 359.1862 - val_mean_absolute_error: 17.4190\n",
            "Epoch 4/40\n",
            "6344/6344 [==============================] - 7s 1ms/step - loss: 26.7165 - mean_absolute_error: 4.0209 - val_loss: 264.8357 - val_mean_absolute_error: 14.9935\n",
            "Epoch 5/40\n",
            "6344/6344 [==============================] - 7s 1ms/step - loss: 25.8408 - mean_absolute_error: 3.9362 - val_loss: 346.6133 - val_mean_absolute_error: 16.7119\n",
            "Epoch 6/40\n",
            "6344/6344 [==============================] - 7s 1ms/step - loss: 26.5971 - mean_absolute_error: 3.9896 - val_loss: 234.0971 - val_mean_absolute_error: 14.0662\n",
            "Epoch 7/40\n",
            "6344/6344 [==============================] - 7s 1ms/step - loss: 23.2414 - mean_absolute_error: 3.7157 - val_loss: 284.6271 - val_mean_absolute_error: 15.4329\n",
            "Epoch 8/40\n",
            "6344/6344 [==============================] - 7s 1ms/step - loss: 22.2593 - mean_absolute_error: 3.6329 - val_loss: 178.0041 - val_mean_absolute_error: 12.2614\n",
            "Epoch 9/40\n",
            "6344/6344 [==============================] - 7s 1ms/step - loss: 19.0744 - mean_absolute_error: 3.3580 - val_loss: 154.1481 - val_mean_absolute_error: 10.8638\n",
            "Epoch 10/40\n",
            "6344/6344 [==============================] - 7s 1ms/step - loss: 19.7811 - mean_absolute_error: 3.4245 - val_loss: 79.7683 - val_mean_absolute_error: 8.0677\n",
            "Epoch 11/40\n",
            "6344/6344 [==============================] - 7s 1ms/step - loss: 18.0900 - mean_absolute_error: 3.2647 - val_loss: 56.1433 - val_mean_absolute_error: 6.4121\n",
            "Epoch 12/40\n",
            "6344/6344 [==============================] - 7s 1ms/step - loss: 17.4835 - mean_absolute_error: 3.1976 - val_loss: 45.6888 - val_mean_absolute_error: 5.8661\n",
            "Epoch 13/40\n",
            "6344/6344 [==============================] - 7s 1ms/step - loss: 17.5371 - mean_absolute_error: 3.2069 - val_loss: 27.5375 - val_mean_absolute_error: 4.3435\n",
            "Epoch 14/40\n",
            "6344/6344 [==============================] - 7s 1ms/step - loss: 18.3900 - mean_absolute_error: 3.2882 - val_loss: 37.5236 - val_mean_absolute_error: 5.0351\n",
            "Epoch 15/40\n",
            "6344/6344 [==============================] - 7s 1ms/step - loss: 17.1893 - mean_absolute_error: 3.1633 - val_loss: 27.4468 - val_mean_absolute_error: 4.4188\n",
            "Epoch 16/40\n",
            "6344/6344 [==============================] - 7s 1ms/step - loss: 15.9091 - mean_absolute_error: 3.0516 - val_loss: 12.6149 - val_mean_absolute_error: 2.7653\n",
            "Epoch 17/40\n",
            "6344/6344 [==============================] - 7s 1ms/step - loss: 17.5640 - mean_absolute_error: 3.2142 - val_loss: 40.2733 - val_mean_absolute_error: 5.3444\n",
            "Epoch 18/40\n",
            "6344/6344 [==============================] - 7s 1ms/step - loss: 17.5434 - mean_absolute_error: 3.2008 - val_loss: 73.7013 - val_mean_absolute_error: 7.6003\n",
            "Epoch 19/40\n",
            "6344/6344 [==============================] - 7s 1ms/step - loss: 15.7689 - mean_absolute_error: 3.0237 - val_loss: 32.0783 - val_mean_absolute_error: 4.8818\n",
            "Epoch 20/40\n",
            "6344/6344 [==============================] - 7s 1ms/step - loss: 14.0188 - mean_absolute_error: 2.8449 - val_loss: 23.4478 - val_mean_absolute_error: 3.8963\n",
            "Epoch 21/40\n",
            "6344/6344 [==============================] - 7s 1ms/step - loss: 15.1673 - mean_absolute_error: 2.9732 - val_loss: 9.0510 - val_mean_absolute_error: 2.1216\n",
            "Epoch 22/40\n",
            "6344/6344 [==============================] - 7s 1ms/step - loss: 15.4496 - mean_absolute_error: 2.9905 - val_loss: 9.9511 - val_mean_absolute_error: 2.3968\n",
            "Epoch 23/40\n",
            "6344/6344 [==============================] - 7s 1ms/step - loss: 13.5815 - mean_absolute_error: 2.8034 - val_loss: 14.3981 - val_mean_absolute_error: 2.9021\n",
            "Epoch 24/40\n",
            "6344/6344 [==============================] - 7s 1ms/step - loss: 15.6764 - mean_absolute_error: 3.0133 - val_loss: 9.0441 - val_mean_absolute_error: 2.2318\n",
            "Epoch 25/40\n",
            "6344/6344 [==============================] - 7s 1ms/step - loss: 12.4498 - mean_absolute_error: 2.6745 - val_loss: 14.9982 - val_mean_absolute_error: 3.0995\n",
            "Epoch 26/40\n",
            "6344/6344 [==============================] - 7s 1ms/step - loss: 13.0089 - mean_absolute_error: 2.7286 - val_loss: 13.2569 - val_mean_absolute_error: 2.7616\n",
            "Epoch 27/40\n",
            "6344/6344 [==============================] - 7s 1ms/step - loss: 12.8889 - mean_absolute_error: 2.7203 - val_loss: 8.0470 - val_mean_absolute_error: 1.9176\n",
            "Epoch 28/40\n",
            "6344/6344 [==============================] - 7s 1ms/step - loss: 14.3333 - mean_absolute_error: 2.8755 - val_loss: 8.1569 - val_mean_absolute_error: 1.9807\n",
            "Epoch 29/40\n",
            "6344/6344 [==============================] - 7s 1ms/step - loss: 13.5003 - mean_absolute_error: 2.7800 - val_loss: 9.8463 - val_mean_absolute_error: 2.1680\n",
            "Epoch 30/40\n",
            "6344/6344 [==============================] - 7s 1ms/step - loss: 12.3144 - mean_absolute_error: 2.6487 - val_loss: 8.5306 - val_mean_absolute_error: 2.0067\n",
            "Epoch 31/40\n",
            "6344/6344 [==============================] - 7s 1ms/step - loss: 10.6397 - mean_absolute_error: 2.4626 - val_loss: 12.0471 - val_mean_absolute_error: 2.6555\n",
            "Epoch 32/40\n",
            "6344/6344 [==============================] - 7s 1ms/step - loss: 11.8706 - mean_absolute_error: 2.6099 - val_loss: 6.6107 - val_mean_absolute_error: 1.7394\n",
            "Epoch 33/40\n",
            "6344/6344 [==============================] - 7s 1ms/step - loss: 11.7703 - mean_absolute_error: 2.5899 - val_loss: 7.6394 - val_mean_absolute_error: 1.9007\n",
            "Epoch 34/40\n",
            "6344/6344 [==============================] - 7s 1ms/step - loss: 11.3087 - mean_absolute_error: 2.5368 - val_loss: 9.7197 - val_mean_absolute_error: 2.2380\n",
            "Epoch 35/40\n",
            "6344/6344 [==============================] - 7s 1ms/step - loss: 11.1212 - mean_absolute_error: 2.5173 - val_loss: 5.5087 - val_mean_absolute_error: 1.5180\n",
            "Epoch 36/40\n",
            "6344/6344 [==============================] - 7s 1ms/step - loss: 12.3806 - mean_absolute_error: 2.6550 - val_loss: 9.2552 - val_mean_absolute_error: 2.1505\n",
            "Epoch 37/40\n",
            "6344/6344 [==============================] - 7s 1ms/step - loss: 10.2206 - mean_absolute_error: 2.4109 - val_loss: 5.4085 - val_mean_absolute_error: 1.4736\n",
            "Epoch 38/40\n",
            "6344/6344 [==============================] - 7s 1ms/step - loss: 12.4814 - mean_absolute_error: 2.6718 - val_loss: 6.7000 - val_mean_absolute_error: 1.7200\n",
            "Epoch 39/40\n",
            "6344/6344 [==============================] - 7s 1ms/step - loss: 12.1991 - mean_absolute_error: 2.6394 - val_loss: 6.0200 - val_mean_absolute_error: 1.5986\n",
            "Epoch 40/40\n",
            "6344/6344 [==============================] - 7s 1ms/step - loss: 9.9702 - mean_absolute_error: 2.3741 - val_loss: 5.1048 - val_mean_absolute_error: 1.4121\n"
          ],
          "name": "stdout"
        }
      ]
    },
    {
      "cell_type": "code",
      "metadata": {
        "colab_type": "code",
        "id": "4EiECZjaHymh",
        "outputId": "5fa76543-41e1-49eb-9e4c-77026a691398",
        "colab": {
          "base_uri": "https://localhost:8080/",
          "height": 295
        }
      },
      "source": [
        "plt.plot(history.history['mean_absolute_error'])\n",
        "plt.plot(history.history['val_mean_absolute_error'])\n",
        "plt.title('model absolute error')\n",
        "plt.ylabel('mean_absolute_error')\n",
        "plt.xlabel('epoch')\n",
        "plt.legend(['train', 'val'], loc='upper left')\n",
        "plt.show()"
      ],
      "execution_count": 12,
      "outputs": [
        {
          "output_type": "display_data",
          "data": {
            "image/png": "[encoded data removed]",
            "text/plain": [
              "<Figure size 432x288 with 1 Axes>"
            ]
          },
          "metadata": {
            "tags": []
          }
        }
      ]
    },
    {
      "cell_type": "code",
      "metadata": {
        "colab_type": "code",
        "id": "PzSsNVHkTX50",
        "colab": {}
      },
      "source": [
        "test_data = test_data['Image']\n",
        "test_data = format_images(test_data, (96, 96, 1))"
      ],
      "execution_count": 0,
      "outputs": []
    },
    {
      "cell_type": "code",
      "metadata": {
        "id": "XmuP9aVLPZV3",
        "colab_type": "code",
        "colab": {
          "base_uri": "https://localhost:8080/",
          "height": 268
        },
        "outputId": "1c253a69-4672-41ee-f1bb-241a8df77c27"
      },
      "source": [
        "plot_img(test_data[0])"
      ],
      "execution_count": 24,
      "outputs": [
        {
          "output_type": "display_data",
          "data": {
            "image/png": "[encoded data removed]",
            "text/plain": [
              "<Figure size 432x288 with 1 Axes>"
            ]
          },
          "metadata": {
            "tags": []
          }
        }
      ]
    },
    {
      "cell_type": "code",
      "metadata": {
        "id": "isKqM87BNjY2",
        "colab_type": "code",
        "colab": {}
      },
      "source": [
        "test_data = test_data/255\n",
        "pred = model.predict(test_data)"
      ],
      "execution_count": 0,
      "outputs": []
    },
    {
      "cell_type": "code",
      "metadata": {
        "id": "EsBxc4pwNnfG",
        "colab_type": "code",
        "colab": {
          "base_uri": "https://localhost:8080/",
          "height": 268
        },
        "outputId": "173e65a9-8482-4923-c270-8364ee2bc47e"
      },
      "source": [
        "plot_img(test_data[1], pred[1])"
      ],
      "execution_count": 25,
      "outputs": [
        {
          "output_type": "display_data",
          "data": {
            "image/png": "[encoded data removed]",
            "text/plain": [
              "<Figure size 432x288 with 1 Axes>"
            ]
          },
          "metadata": {
            "tags": []
          }
        }
      ]
    },
    {
      "cell_type": "code",
      "metadata": {
        "id": "xu99nLJPNvpx",
        "colab_type": "code",
        "colab": {}
      },
      "source": [
        ""
      ],
      "execution_count": 0,
      "outputs": []
    }
  ]
}