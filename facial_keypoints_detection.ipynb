{
  "nbformat": 4,
  "nbformat_minor": 0,
  "metadata": {
    "accelerator": "GPU",
    "colab": {
      "name": "facial_keypoints_detection.ipynb",
      "provenance": [],
      "collapsed_sections": [],
      "toc_visible": true,
      "include_colab_link": true
    },
    "kernelspec": {
      "display_name": "Python 3",
      "language": "python",
      "name": "python3"
    },
    "language_info": {
      "codemirror_mode": {
        "name": "ipython",
        "version": 3
      },
      "file_extension": ".py",
      "mimetype": "text/x-python",
      "name": "python",
      "nbconvert_exporter": "python",
      "pygments_lexer": "ipython3",
      "version": "3.7.3"
    }
  },
  "cells": [
    {
      "cell_type": "markdown",
      "metadata": {
        "id": "view-in-github",
        "colab_type": "text"
      },
      "source": [
        "<a href=\"https://colab.research.google.com/github/animalecs/facial_keypoints_recognition/blob/master/facial_keypoints_detection.ipynb\" target=\"_parent\"><img src=\"https://colab.research.google.com/assets/colab-badge.svg\" alt=\"Open In Colab\"/></a>"
      ]
    },
    {
      "cell_type": "code",
      "metadata": {
        "colab_type": "code",
        "id": "2NRv6lYJqf77",
        "outputId": "9cbf5dc6-4272-405a-aa94-07d503d995cb",
        "colab": {
          "base_uri": "https://localhost:8080/",
          "height": 80
        }
      },
      "source": [
        "# !pip install --upgrade tensorflow\n",
        "\n",
        "import numpy as np\n",
        "import pandas as pd\n",
        "import tensorflow as tf\n",
        "import matplotlib.pyplot as plt\n",
        "from keras.layers import Convolution2D, Dropout, Dense, Flatten, BatchNormalization, MaxPool2D\n",
        "from keras.layers.advanced_activations import LeakyReLU\n",
        "from keras.models import Sequential\n",
        "%matplotlib inline\n",
        "\n",
        "VERBOSE = False"
      ],
      "execution_count": 1,
      "outputs": [
        {
          "output_type": "display_data",
          "data": {
            "text/html": [
              "<p style=\"color: red;\">\n",
              "The default version of TensorFlow in Colab will soon switch to TensorFlow 2.x.<br>\n",
              "We recommend you <a href=\"https://www.tensorflow.org/guide/migrate\" target=\"_blank\">upgrade</a> now \n",
              "or ensure your notebook will continue to use TensorFlow 1.x via the <code>%tensorflow_version 1.x</code> magic:\n",
              "<a href=\"https://colab.research.google.com/notebooks/tensorflow_version.ipynb\" target=\"_blank\">more info</a>.</p>\n"
            ],
            "text/plain": [
              "<IPython.core.display.HTML object>"
            ]
          },
          "metadata": {
            "tags": []
          }
        },
        {
          "output_type": "stream",
          "text": [
            "Using TensorFlow backend.\n"
          ],
          "name": "stderr"
        }
      ]
    },
    {
      "cell_type": "code",
      "metadata": {
        "colab_type": "code",
        "id": "qSO26istrONz",
        "colab": {}
      },
      "source": [
        "train_data = pd.read_csv(\"drive/My Drive/ml_data/facial_keypoints_recognition/training.csv\")\n",
        "test_data = pd.read_csv(\"drive/My Drive/ml_data/facial_keypoints_recognition/test.csv\")"
      ],
      "execution_count": 0,
      "outputs": []
    },
    {
      "cell_type": "code",
      "metadata": {
        "id": "UdN5K1OsnFC8",
        "colab_type": "code",
        "colab": {}
      },
      "source": [
        "def format_images(text_images, dims, norm=False):\n",
        "    \"\"\"\n",
        "    Receives an image formatted as a string and outputs it as \n",
        "    a numpy array of the desired size\n",
        "    Input:\n",
        "    text_images: string array of pixel values\n",
        "    dims: tuple containing the output shape of the image\n",
        "    norm: boolean, if true the function normalizes the output\n",
        "    Output:\n",
        "    images: array of shaped images \n",
        "    \"\"\"\n",
        "    w, h, c = (dims)\n",
        "    images = []\n",
        "    for i in range(0, text_images.shape[0]):\n",
        "        # Get every image object, cast it to a string and split it \n",
        "        # since every value is a pixel\n",
        "        splitted_img = text_images[i].split(' ')\n",
        "        images.append(splitted_img)\n",
        "    # Cast from list to numpy array\n",
        "    images = np.array(images, dtype=\"float\")\n",
        "    # Reshape in the final size\n",
        "    images = images.reshape(-1, w, h, c)\n",
        "    if norm == True:\n",
        "        images = images / 255\n",
        "        \n",
        "    return images\n",
        "    "
      ],
      "execution_count": 0,
      "outputs": []
    },
    {
      "cell_type": "code",
      "metadata": {
        "id": "uhM99PFrvC3j",
        "colab_type": "code",
        "colab": {}
      },
      "source": [
        "def plot_img(img, keypoints=None):\n",
        "  \"\"\"\n",
        "  Plots a face image with the keypoints associated\n",
        "  Input:\n",
        "  img: the image to plot\n",
        "  keypoints: a panda dataframe row with 30 values (15 coords with x,y)\n",
        "  \"\"\"\n",
        "  # We have to reshape it again because imageplotlib can show images\n",
        "  # in black/white with just 2 dims or colored images with 3 dims\n",
        "  plt.imshow(img.reshape(96, 96), cmap=\"gray\")\n",
        "  if keypoints.any() == True:\n",
        "    for i in range(15):\n",
        "      # print(train_data.iloc[img_index, i])\n",
        "      # print(train_data.iloc[img_index, i+1])\n",
        "      plt.scatter(keypoints[i*2], keypoints[i*2+1], s=5, c='red', marker='o')\n",
        "  plt.show()"
      ],
      "execution_count": 0,
      "outputs": []
    },
    {
      "cell_type": "code",
      "metadata": {
        "colab_type": "code",
        "id": "f5gyZGB2vasy",
        "colab": {}
      },
      "source": [
        "if VERBOSE == True:\n",
        "  # Check the data type of each column\n",
        "  print(\"\\r\\nData types: \")\n",
        "  print(train_data.dtypes)\n",
        "  # Check the data\n",
        "  print(\"\\r\\nFirst data values: \")\n",
        "  print(train_data.head().T)\n",
        "  # Check if there are missing values\n",
        "  print(\"\\r\\nMissing values: \")\n",
        "  print(train_data.isnull().sum())\n",
        "\n",
        "# Remove the last row since the image doesn't have all the pixels\n",
        "train_data.head(-1)\n",
        "\n",
        "# Fill the Nan values with the last valid number of the column\n",
        "# TO DO - try to drop the row with NaN values\n",
        "train_data = train_data.fillna(method='ffill')"
      ],
      "execution_count": 0,
      "outputs": []
    },
    {
      "cell_type": "code",
      "metadata": {
        "colab_type": "code",
        "id": "LIN5rLMLzHzp",
        "colab": {}
      },
      "source": [
        "raw_images = train_data[\"Image\"]\n",
        "\n",
        "input_images = format_images(raw_images, (96, 96, 1))"
      ],
      "execution_count": 0,
      "outputs": []
    },
    {
      "cell_type": "code",
      "metadata": {
        "colab_type": "code",
        "id": "HwHJbQypz1lT",
        "outputId": "768171a2-e1b8-4423-c3c1-3259be8c8cec",
        "colab": {
          "base_uri": "https://localhost:8080/",
          "height": 268
        }
      },
      "source": [
        "# Plot the first image to check it\n",
        "img_index = 0\n",
        "data_row = train_data.iloc[img_index]\n",
        "temp_img = input_images[img_index]\n",
        "plot_img(temp_img)"
      ],
      "execution_count": 7,
      "outputs": [
        {
          "output_type": "display_data",
          "data": {
            "image/png": "[encoded data removed]",
            "text/plain": [
              "<Figure size 432x288 with 1 Axes>"
            ]
          },
          "metadata": {
            "tags": []
          }
        }
      ]
    },
    {
      "cell_type": "code",
      "metadata": {
        "colab_type": "code",
        "id": "KWNmvmapst9y",
        "colab": {}
      },
      "source": [
        "#Drop the images column from the dataset\n",
        "train_data = train_data.drop('Image',axis = 1)\n",
        "# Normalize images\n",
        "input_images = input_images / 255"
      ],
      "execution_count": 0,
      "outputs": []
    },
    {
      "cell_type": "code",
      "metadata": {
        "colab_type": "code",
        "id": "c8YqNAS8DV8z",
        "outputId": "89e3ffae-415a-4dfc-959e-f8d84dd7e8b7",
        "colab": {
          "base_uri": "https://localhost:8080/",
          "height": 1000
        }
      },
      "source": [
        "model = Sequential()\n",
        "model.add(Convolution2D(32, (3,3), padding='same', use_bias=False, input_shape=(96,96,1)))\n",
        "model.add(LeakyReLU(alpha=0.1))\n",
        "model.add(BatchNormalization())\n",
        "\n",
        "model.add(Convolution2D(32, (3,3), padding='same', use_bias=False))\n",
        "model.add(LeakyReLU(alpha=0.1))\n",
        "model.add(BatchNormalization())\n",
        "model.add(MaxPool2D(pool_size=(2, 2)))\n",
        "\n",
        "model.add(Convolution2D(64, (3,3), padding='same', use_bias=False, input_shape=(96,96,1)))\n",
        "model.add(LeakyReLU(alpha=0.1))\n",
        "model.add(BatchNormalization())\n",
        "\n",
        "model.add(Convolution2D(64, (3,3), padding='same', use_bias=False))\n",
        "model.add(LeakyReLU(alpha=0.1))\n",
        "model.add(BatchNormalization())\n",
        "model.add(MaxPool2D(pool_size=(2, 2)))\n",
        "\n",
        "model.add(Convolution2D(128, (3,3), padding='same', use_bias=False))\n",
        "model.add(LeakyReLU(alpha=0.1))\n",
        "model.add(BatchNormalization())\n",
        "model.add(MaxPool2D(pool_size=(2, 2)))\n",
        "\n",
        "model.add(Convolution2D(256, (3,3), padding='same', use_bias=False))\n",
        "model.add(LeakyReLU(alpha=0.1))\n",
        "model.add(BatchNormalization())\n",
        "model.add(MaxPool2D(pool_size=(2, 2)))\n",
        "\n",
        "model.add(Flatten())\n",
        "model.add(Dense(512,activation='relu'))\n",
        "# Without dropout the model overfits the small dataset\n",
        "model.add(Dropout(0.1))\n",
        "model.add(Dense(30))\n",
        "model.summary()"
      ],
      "execution_count": 9,
      "outputs": [
        {
          "output_type": "stream",
          "text": [
            "WARNING:tensorflow:From /usr/local/lib/python3.6/dist-packages/keras/backend/tensorflow_backend.py:66: The name tf.get_default_graph is deprecated. Please use tf.compat.v1.get_default_graph instead.\n",
            "\n",
            "WARNING:tensorflow:From /usr/local/lib/python3.6/dist-packages/keras/backend/tensorflow_backend.py:541: The name tf.placeholder is deprecated. Please use tf.compat.v1.placeholder instead.\n",
            "\n",
            "WARNING:tensorflow:From /usr/local/lib/python3.6/dist-packages/keras/backend/tensorflow_backend.py:4432: The name tf.random_uniform is deprecated. Please use tf.random.uniform instead.\n",
            "\n",
            "WARNING:tensorflow:From /usr/local/lib/python3.6/dist-packages/keras/backend/tensorflow_backend.py:190: The name tf.get_default_session is deprecated. Please use tf.compat.v1.get_default_session instead.\n",
            "\n",
            "WARNING:tensorflow:From /usr/local/lib/python3.6/dist-packages/keras/backend/tensorflow_backend.py:197: The name tf.ConfigProto is deprecated. Please use tf.compat.v1.ConfigProto instead.\n",
            "\n",
            "WARNING:tensorflow:From /usr/local/lib/python3.6/dist-packages/keras/backend/tensorflow_backend.py:203: The name tf.Session is deprecated. Please use tf.compat.v1.Session instead.\n",
            "\n",
            "WARNING:tensorflow:From /usr/local/lib/python3.6/dist-packages/keras/backend/tensorflow_backend.py:207: The name tf.global_variables is deprecated. Please use tf.compat.v1.global_variables instead.\n",
            "\n",
            "WARNING:tensorflow:From /usr/local/lib/python3.6/dist-packages/keras/backend/tensorflow_backend.py:216: The name tf.is_variable_initialized is deprecated. Please use tf.compat.v1.is_variable_initialized instead.\n",
            "\n",
            "WARNING:tensorflow:From /usr/local/lib/python3.6/dist-packages/keras/backend/tensorflow_backend.py:223: The name tf.variables_initializer is deprecated. Please use tf.compat.v1.variables_initializer instead.\n",
            "\n",
            "WARNING:tensorflow:From /usr/local/lib/python3.6/dist-packages/keras/backend/tensorflow_backend.py:2041: The name tf.nn.fused_batch_norm is deprecated. Please use tf.compat.v1.nn.fused_batch_norm instead.\n",
            "\n",
            "WARNING:tensorflow:From /usr/local/lib/python3.6/dist-packages/keras/backend/tensorflow_backend.py:148: The name tf.placeholder_with_default is deprecated. Please use tf.compat.v1.placeholder_with_default instead.\n",
            "\n",
            "WARNING:tensorflow:From /usr/local/lib/python3.6/dist-packages/keras/backend/tensorflow_backend.py:4267: The name tf.nn.max_pool is deprecated. Please use tf.nn.max_pool2d instead.\n",
            "\n",
            "WARNING:tensorflow:From /usr/local/lib/python3.6/dist-packages/keras/backend/tensorflow_backend.py:3733: calling dropout (from tensorflow.python.ops.nn_ops) with keep_prob is deprecated and will be removed in a future version.\n",
            "Instructions for updating:\n",
            "Please use `rate` instead of `keep_prob`. Rate should be set to `rate = 1 - keep_prob`.\n",
            "Model: \"sequential_1\"\n",
            "_________________________________________________________________\n",
            "Layer (type)                 Output Shape              Param #   \n",
            "=================================================================\n",
            "conv2d_1 (Conv2D)            (None, 96, 96, 32)        288       \n",
            "_________________________________________________________________\n",
            "leaky_re_lu_1 (LeakyReLU)    (None, 96, 96, 32)        0         \n",
            "_________________________________________________________________\n",
            "batch_normalization_1 (Batch (None, 96, 96, 32)        128       \n",
            "_________________________________________________________________\n",
            "conv2d_2 (Conv2D)            (None, 96, 96, 32)        9216      \n",
            "_________________________________________________________________\n",
            "leaky_re_lu_2 (LeakyReLU)    (None, 96, 96, 32)        0         \n",
            "_________________________________________________________________\n",
            "batch_normalization_2 (Batch (None, 96, 96, 32)        128       \n",
            "_________________________________________________________________\n",
            "max_pooling2d_1 (MaxPooling2 (None, 48, 48, 32)        0         \n",
            "_________________________________________________________________\n",
            "conv2d_3 (Conv2D)            (None, 48, 48, 64)        18432     \n",
            "_________________________________________________________________\n",
            "leaky_re_lu_3 (LeakyReLU)    (None, 48, 48, 64)        0         \n",
            "_________________________________________________________________\n",
            "batch_normalization_3 (Batch (None, 48, 48, 64)        256       \n",
            "_________________________________________________________________\n",
            "conv2d_4 (Conv2D)            (None, 48, 48, 64)        36864     \n",
            "_________________________________________________________________\n",
            "leaky_re_lu_4 (LeakyReLU)    (None, 48, 48, 64)        0         \n",
            "_________________________________________________________________\n",
            "batch_normalization_4 (Batch (None, 48, 48, 64)        256       \n",
            "_________________________________________________________________\n",
            "max_pooling2d_2 (MaxPooling2 (None, 24, 24, 64)        0         \n",
            "_________________________________________________________________\n",
            "conv2d_5 (Conv2D)            (None, 24, 24, 128)       73728     \n",
            "_________________________________________________________________\n",
            "leaky_re_lu_5 (LeakyReLU)    (None, 24, 24, 128)       0         \n",
            "_________________________________________________________________\n",
            "batch_normalization_5 (Batch (None, 24, 24, 128)       512       \n",
            "_________________________________________________________________\n",
            "max_pooling2d_3 (MaxPooling2 (None, 12, 12, 128)       0         \n",
            "_________________________________________________________________\n",
            "conv2d_6 (Conv2D)            (None, 12, 12, 256)       294912    \n",
            "_________________________________________________________________\n",
            "leaky_re_lu_6 (LeakyReLU)    (None, 12, 12, 256)       0         \n",
            "_________________________________________________________________\n",
            "batch_normalization_6 (Batch (None, 12, 12, 256)       1024      \n",
            "_________________________________________________________________\n",
            "max_pooling2d_4 (MaxPooling2 (None, 6, 6, 256)         0         \n",
            "_________________________________________________________________\n",
            "flatten_1 (Flatten)          (None, 9216)              0         \n",
            "_________________________________________________________________\n",
            "dense_1 (Dense)              (None, 512)               4719104   \n",
            "_________________________________________________________________\n",
            "dropout_1 (Dropout)          (None, 512)               0         \n",
            "_________________________________________________________________\n",
            "dense_2 (Dense)              (None, 30)                15390     \n",
            "=================================================================\n",
            "Total params: 5,170,238\n",
            "Trainable params: 5,169,086\n",
            "Non-trainable params: 1,152\n",
            "_________________________________________________________________\n"
          ],
          "name": "stdout"
        }
      ]
    },
    {
      "cell_type": "code",
      "metadata": {
        "colab_type": "code",
        "id": "I55LGaAQFE6A",
        "outputId": "485a6e7d-3478-4d66-e7c0-3f9ee7ef6d56",
        "colab": {
          "base_uri": "https://localhost:8080/",
          "height": 71
        }
      },
      "source": [
        "model.compile(optimizer='adam', loss='mean_squared_error', metrics=['mae'])"
      ],
      "execution_count": 10,
      "outputs": [
        {
          "output_type": "stream",
          "text": [
            "WARNING:tensorflow:From /usr/local/lib/python3.6/dist-packages/keras/optimizers.py:793: The name tf.train.Optimizer is deprecated. Please use tf.compat.v1.train.Optimizer instead.\n",
            "\n"
          ],
          "name": "stdout"
        }
      ]
    },
    {
      "cell_type": "code",
      "metadata": {
        "colab_type": "code",
        "id": "bQbE-w71HaAk",
        "outputId": "5304de10-15d6-4f73-be7f-66201ba9ac96",
        "colab": {
          "base_uri": "https://localhost:8080/",
          "height": 1000
        }
      },
      "source": [
        "history = model.fit(input_images, train_data, epochs = 30,batch_size = 256, validation_split = 0.1, shuffle=True)"
      ],
      "execution_count": 11,
      "outputs": [
        {
          "output_type": "stream",
          "text": [
            "WARNING:tensorflow:From /usr/local/lib/python3.6/dist-packages/keras/backend/tensorflow_backend.py:1033: The name tf.assign_add is deprecated. Please use tf.compat.v1.assign_add instead.\n",
            "\n",
            "WARNING:tensorflow:From /usr/local/lib/python3.6/dist-packages/keras/backend/tensorflow_backend.py:1020: The name tf.assign is deprecated. Please use tf.compat.v1.assign instead.\n",
            "\n",
            "Train on 6344 samples, validate on 705 samples\n",
            "Epoch 1/30\n",
            "6344/6344 [==============================] - 16s 2ms/step - loss: 247.7366 - mean_absolute_error: 10.0290 - val_loss: 2534.3238 - val_mean_absolute_error: 46.1120\n",
            "Epoch 2/30\n",
            "6344/6344 [==============================] - 7s 1ms/step - loss: 36.5748 - mean_absolute_error: 4.7252 - val_loss: 909.2634 - val_mean_absolute_error: 27.9563\n",
            "Epoch 3/30\n",
            "6344/6344 [==============================] - 7s 1ms/step - loss: 28.8520 - mean_absolute_error: 4.1781 - val_loss: 432.0166 - val_mean_absolute_error: 19.2712\n",
            "Epoch 4/30\n",
            "6344/6344 [==============================] - 7s 1ms/step - loss: 27.9003 - mean_absolute_error: 4.0919 - val_loss: 388.6945 - val_mean_absolute_error: 18.2646\n",
            "Epoch 5/30\n",
            "6344/6344 [==============================] - 7s 1ms/step - loss: 23.8476 - mean_absolute_error: 3.7740 - val_loss: 202.8731 - val_mean_absolute_error: 13.0251\n",
            "Epoch 6/30\n",
            "6344/6344 [==============================] - 7s 1ms/step - loss: 22.3874 - mean_absolute_error: 3.6523 - val_loss: 146.6733 - val_mean_absolute_error: 10.8822\n",
            "Epoch 7/30\n",
            "6344/6344 [==============================] - 7s 1ms/step - loss: 21.1171 - mean_absolute_error: 3.5452 - val_loss: 132.2830 - val_mean_absolute_error: 10.3174\n",
            "Epoch 8/30\n",
            "6344/6344 [==============================] - 7s 1ms/step - loss: 21.4009 - mean_absolute_error: 3.5627 - val_loss: 95.2634 - val_mean_absolute_error: 8.4586\n",
            "Epoch 9/30\n",
            "6344/6344 [==============================] - 7s 1ms/step - loss: 21.1155 - mean_absolute_error: 3.5367 - val_loss: 97.3111 - val_mean_absolute_error: 8.9320\n",
            "Epoch 10/30\n",
            "6344/6344 [==============================] - 7s 1ms/step - loss: 21.0604 - mean_absolute_error: 3.5274 - val_loss: 103.2607 - val_mean_absolute_error: 9.1339\n",
            "Epoch 11/30\n",
            "6344/6344 [==============================] - 7s 1ms/step - loss: 20.0564 - mean_absolute_error: 3.4515 - val_loss: 137.0337 - val_mean_absolute_error: 10.6853\n",
            "Epoch 12/30\n",
            "6344/6344 [==============================] - 7s 1ms/step - loss: 18.3886 - mean_absolute_error: 3.2857 - val_loss: 83.8014 - val_mean_absolute_error: 8.1709\n",
            "Epoch 13/30\n",
            "6344/6344 [==============================] - 7s 1ms/step - loss: 15.7194 - mean_absolute_error: 3.0309 - val_loss: 45.1930 - val_mean_absolute_error: 5.8924\n",
            "Epoch 14/30\n",
            "6344/6344 [==============================] - 7s 1ms/step - loss: 17.1006 - mean_absolute_error: 3.1655 - val_loss: 32.1315 - val_mean_absolute_error: 4.8426\n",
            "Epoch 15/30\n",
            "6344/6344 [==============================] - 7s 1ms/step - loss: 17.8190 - mean_absolute_error: 3.2308 - val_loss: 65.7387 - val_mean_absolute_error: 7.0208\n",
            "Epoch 16/30\n",
            "6344/6344 [==============================] - 7s 1ms/step - loss: 15.5771 - mean_absolute_error: 2.9977 - val_loss: 32.9314 - val_mean_absolute_error: 4.8936\n",
            "Epoch 17/30\n",
            "6344/6344 [==============================] - 7s 1ms/step - loss: 18.9669 - mean_absolute_error: 3.3142 - val_loss: 9.0749 - val_mean_absolute_error: 2.1134\n",
            "Epoch 18/30\n",
            "6344/6344 [==============================] - 7s 1ms/step - loss: 20.2537 - mean_absolute_error: 3.4375 - val_loss: 53.5125 - val_mean_absolute_error: 6.2999\n",
            "Epoch 19/30\n",
            "6344/6344 [==============================] - 7s 1ms/step - loss: 15.0838 - mean_absolute_error: 2.9553 - val_loss: 39.1652 - val_mean_absolute_error: 5.2244\n",
            "Epoch 20/30\n",
            "6344/6344 [==============================] - 7s 1ms/step - loss: 13.9370 - mean_absolute_error: 2.8392 - val_loss: 24.0020 - val_mean_absolute_error: 4.0670\n",
            "Epoch 21/30\n",
            "6344/6344 [==============================] - 7s 1ms/step - loss: 15.0103 - mean_absolute_error: 2.9507 - val_loss: 33.8437 - val_mean_absolute_error: 4.8480\n",
            "Epoch 22/30\n",
            "6344/6344 [==============================] - 7s 1ms/step - loss: 13.7628 - mean_absolute_error: 2.8163 - val_loss: 18.0020 - val_mean_absolute_error: 3.1767\n",
            "Epoch 23/30\n",
            "6344/6344 [==============================] - 7s 1ms/step - loss: 13.7221 - mean_absolute_error: 2.8107 - val_loss: 7.4850 - val_mean_absolute_error: 1.9742\n",
            "Epoch 24/30\n",
            "6344/6344 [==============================] - 7s 1ms/step - loss: 13.4405 - mean_absolute_error: 2.7805 - val_loss: 5.5655 - val_mean_absolute_error: 1.5138\n",
            "Epoch 25/30\n",
            "6344/6344 [==============================] - 7s 1ms/step - loss: 13.0456 - mean_absolute_error: 2.7329 - val_loss: 9.9995 - val_mean_absolute_error: 2.2685\n",
            "Epoch 26/30\n",
            "6344/6344 [==============================] - 7s 1ms/step - loss: 11.9965 - mean_absolute_error: 2.6117 - val_loss: 6.9817 - val_mean_absolute_error: 1.8145\n",
            "Epoch 27/30\n",
            "6344/6344 [==============================] - 7s 1ms/step - loss: 11.6751 - mean_absolute_error: 2.5857 - val_loss: 8.4689 - val_mean_absolute_error: 2.0258\n",
            "Epoch 28/30\n",
            "6344/6344 [==============================] - 7s 1ms/step - loss: 13.2938 - mean_absolute_error: 2.7493 - val_loss: 6.9170 - val_mean_absolute_error: 1.7681\n",
            "Epoch 29/30\n",
            "6344/6344 [==============================] - 7s 1ms/step - loss: 14.0766 - mean_absolute_error: 2.8426 - val_loss: 6.4189 - val_mean_absolute_error: 1.6823\n",
            "Epoch 30/30\n",
            "6344/6344 [==============================] - 7s 1ms/step - loss: 15.0051 - mean_absolute_error: 2.9362 - val_loss: 7.1208 - val_mean_absolute_error: 1.8144\n"
          ],
          "name": "stdout"
        }
      ]
    },
    {
      "cell_type": "code",
      "metadata": {
        "colab_type": "code",
        "id": "4EiECZjaHymh",
        "outputId": "f68a660d-bdde-424c-e438-db0c12f172e0",
        "colab": {
          "base_uri": "https://localhost:8080/",
          "height": 295
        }
      },
      "source": [
        "plt.plot(history.history['mean_absolute_error'])\n",
        "plt.plot(history.history['val_mean_absolute_error'])\n",
        "plt.title('model absolute error')\n",
        "plt.ylabel('mean_absolute_error')\n",
        "plt.xlabel('epoch')\n",
        "plt.legend(['train', 'val'], loc='upper left')\n",
        "plt.show()"
      ],
      "execution_count": 12,
      "outputs": [
        {
          "output_type": "display_data",
          "data": {
            "image/png": "[encoded data removed]",
            "text/plain": [
              "<Figure size 432x288 with 1 Axes>"
            ]
          },
          "metadata": {
            "tags": []
          }
        }
      ]
    },
    {
      "cell_type": "code",
      "metadata": {
        "colab_type": "code",
        "id": "PzSsNVHkTX50",
        "colab": {}
      },
      "source": [
        "test_data = test_data['Image']\n",
        "test_data = format_images(test_data, (96, 96, 1))"
      ],
      "execution_count": 0,
      "outputs": []
    },
    {
      "cell_type": "code",
      "metadata": {
        "id": "XmuP9aVLPZV3",
        "colab_type": "code",
        "colab": {
          "base_uri": "https://localhost:8080/",
          "height": 268
        },
        "outputId": "8e127328-17eb-4013-d82d-dc62ac801174"
      },
      "source": [
        "plot_img(test_data[0])"
      ],
      "execution_count": 14,
      "outputs": [
        {
          "output_type": "display_data",
          "data": {
            "image/png": "[encoded data removed]",
            "text/plain": [
              "<Figure size 432x288 with 1 Axes>"
            ]
          },
          "metadata": {
            "tags": []
          }
        }
      ]
    },
    {
      "cell_type": "code",
      "metadata": {
        "id": "isKqM87BNjY2",
        "colab_type": "code",
        "colab": {}
      },
      "source": [
        "test_data = test_data/255\n",
        "pred = model.predict(test_data)"
      ],
      "execution_count": 0,
      "outputs": []
    },
    {
      "cell_type": "code",
      "metadata": {
        "id": "EsBxc4pwNnfG",
        "colab_type": "code",
        "colab": {
          "base_uri": "https://localhost:8080/",
          "height": 285
        },
        "outputId": "8311cdd9-b001-47b9-859d-0a74133301ab"
      },
      "source": [
        "print(test_data.shape)\n",
        "plot_img(test_data[1], pred[1])"
      ],
      "execution_count": 19,
      "outputs": [
        {
          "output_type": "stream",
          "text": [
            "(1783, 96, 96, 1)\n"
          ],
          "name": "stdout"
        },
        {
          "output_type": "display_data",
          "data": {
            "image/png": "[encoded data removed]",
            "text/plain": [
              "<Figure size 432x288 with 1 Axes>"
            ]
          },
          "metadata": {
            "tags": []
          }
        }
      ]
    },
    {
      "cell_type": "code",
      "metadata": {
        "id": "xu99nLJPNvpx",
        "colab_type": "code",
        "colab": {}
      },
      "source": [
        ""
      ],
      "execution_count": 0,
      "outputs": []
    }
  ]
}